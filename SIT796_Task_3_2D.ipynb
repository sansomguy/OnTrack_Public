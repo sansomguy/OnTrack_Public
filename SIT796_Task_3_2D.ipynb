{
  "nbformat": 4,
  "nbformat_minor": 0,
  "metadata": {
    "language_info": {
      "codemirror_mode": {
        "name": "ipython",
        "version": 3
      },
      "file_extension": ".py",
      "mimetype": "text/x-python",
      "name": "python",
      "nbconvert_exporter": "python",
      "pygments_lexer": "ipython3",
      "version": "3.7.10-final"
    },
    "orig_nbformat": 2,
    "kernelspec": {
      "name": "python3",
      "display_name": "Python 3.7.10 64-bit",
      "metadata": {
        "interpreter": {
          "hash": "4cd7ab41f5fca4b9b44701077e38c5ffd31fe66a6cab21e0214b68d958d0e462"
        }
      }
    },
    "colab": {
      "name": "Copy of Task_3_2D.ipynb",
      "provenance": [],
      "collapsed_sections": []
    }
  },
  "cells": [
    {
      "cell_type": "markdown",
      "metadata": {
        "id": "nMo1dCj7mILP"
      },
      "source": [
        "## C1. Environment Implementation"
      ]
    },
    {
      "cell_type": "code",
      "metadata": {
        "id": "TE8MDATXQruV"
      },
      "source": [
        "import gym\n",
        "from gym import spaces\n",
        "import numpy as np\n",
        "import random as rand\n",
        "\n",
        "class SimpleTrafficControlEnv(gym.Env):\n",
        "  # create properties required for representing \n",
        "  # and update state of our traffic intersection\n",
        "  def __init__(self):\n",
        "    super(SimpleTrafficControlEnv, self).__init__()\n",
        "    # action & observation spaces\n",
        "    self.action_space = spaces.Discrete(2)\n",
        "    self.observation_space = spaces.Discrete(4)\n",
        "    self.state = np.array([1,0,0,0])\n",
        "    # state names for use in lookups of transition and rewards dictionaries\n",
        "    self.states = [\n",
        "      'PhaseMain,TrafficMain',\n",
        "      'PhaseMain,TrafficLeft',\n",
        "      'PhaseLeft,TrafficMain',\n",
        "      'PhaseLeft,TrafficLeft'\n",
        "    ]\n",
        "    # action names for use in lookups of transition and rewards dictionaries\n",
        "    self.actions = [\n",
        "      'PhaseMain',\n",
        "      'PhaseLeft'\n",
        "    ]\n",
        "    # define our known discrete mdp environment\n",
        "    # first we define our transition probabilities with respect to stochasticity mentioned in 2.2 above.\n",
        "    self.transition_probs = {\n",
        "        'PhaseMain,TrafficMain': {\n",
        "            'PhaseMain': { 'PhaseMain,TrafficMain': 0.7, 'PhaseMain,TrafficLeft': 0.3},\n",
        "            'PhaseLeft': { 'PhaseLeft,TrafficMain': 0.9, 'PhaseLeft,TrafficLeft': 0.1}\n",
        "        },\n",
        "        'PhaseMain,TrafficLeft': {\n",
        "            'PhaseMain': { 'PhaseMain,TrafficMain': 0.2, 'PhaseMain,TrafficLeft': 0.8},\n",
        "            'PhaseLeft': { 'PhaseLeft,TrafficLeft': 0.7, 'PhaseLeft,TrafficMain': 0.3}\n",
        "        },\n",
        "        'PhaseLeft,TrafficMain': {\n",
        "            'PhaseLeft': { 'PhaseLeft,TrafficMain': 0.9, 'PhaseLeft,TrafficLeft': 0.1},\n",
        "            'PhaseMain': { 'PhaseMain,TrafficMain': 0.9, 'PhaseMain,TrafficLeft': 0.1}\n",
        "        },\n",
        "        'PhaseLeft,TrafficLeft': {\n",
        "            'PhaseLeft': { 'PhaseLeft,TrafficLeft': 0.7, 'PhaseLeft,TrafficMain': 0.3 },\n",
        "            'PhaseMain': { 'PhaseMain,TrafficLeft': 0.6, 'PhaseMain,TrafficMain': 0.4 }\n",
        "        }\n",
        "    }\n",
        "    # rewards defined in section 2.3 above\n",
        "    self.rewards = {\n",
        "      'PhaseMain,TrafficMain': { \n",
        "          'PhaseMain': { 'PhaseMain,TrafficMain': +1, 'PhaseMain,TrafficLeft': -2},\n",
        "          'PhaseLeft': { 'PhaseLeft,TrafficLeft': +1, 'PhaseLeft,TrafficMain': -2}\n",
        "      },\n",
        "      'PhaseLeft,TrafficMain': {\n",
        "          'PhaseMain': {'PhaseMain,TrafficMain': +1, 'PhaseMain,TrafficLeft': -2},\n",
        "          'PhaseLeft': {'PhaseLeft,TrafficLeft': +1, 'PhaseLeft,TrafficMain': -2}\n",
        "      },\n",
        "      'PhaseMain,TrafficLeft': {\n",
        "          'PhaseMain': {'PhaseMain,TrafficMain': +1, 'PhaseMain,TrafficLeft': -2},\n",
        "          'PhaseLeft': {'PhaseLeft,TrafficLeft': +1, 'PhaseLeft,TrafficMain': -2}\n",
        "      },\n",
        "      'PhaseLeft,TrafficLeft': {\n",
        "          'PhaseMain': {'PhaseMain,TrafficMain': +1, 'PhaseMain,TrafficLeft': -2},\n",
        "          'PhaseLeft': {'PhaseLeft,TrafficLeft': +1, 'PhaseLeft,TrafficMain': -2}\n",
        "      }\n",
        "    }\n",
        "    rand.seed(None)\n",
        "\n",
        "  # clean state\n",
        "  def reset(self):\n",
        "    # set initial state to PhaseMain,TrafficMain\n",
        "    return np.array([1,0,0,0])\n",
        "\n",
        "  # step through time using new action\n",
        "  def step(self, action):\n",
        "    old_state = self.get_state_name(self.state)\n",
        "    # perform state updates based on new action\n",
        "    self._perform(action) \n",
        "    new_state = self.get_state_name(self.state)\n",
        "    # calculate reward\n",
        "    reward = self.get_reward(old_state, self.actions[action], new_state) \n",
        "\n",
        "    # return new observations as well as reward\n",
        "    # and done is always False in this environment\n",
        "    return self.state, reward, False, {}\n",
        "  \n",
        "  def get_reward(self, state, action, next_state):\n",
        "    if next_state in self.rewards[state][action]:\n",
        "      return self.rewards[state][action][next_state]\n",
        "    return -10 # large negative reward if attempting illegal move\n",
        "\n",
        "  # given current state, and action, determine transition probability for new state\n",
        "  def get_transition_prob(self, state, action, next_state):\n",
        "    if next_state in env.transition_probs[state][action]:\n",
        "      return env.transition_probs[state][action][next_state]\n",
        "    return 0.0\n",
        "\n",
        "  # update discrete space observation given state index\n",
        "  def _set_state(self, state_index):\n",
        "    new_state = np.array([0,0,0,0])\n",
        "    new_state[state_index] = 1\n",
        "    self.state = new_state\n",
        "\n",
        "  # perform the state updates given selected action\n",
        "  def _perform(self, action):\n",
        "    assert self.action_space.contains(action)\n",
        "    action_name = self.actions[action]\n",
        "    new_state = self._get_new_state(action)\n",
        "    self._set_state(self.states.index(new_state))\n",
        "\n",
        "  def _get_new_state(self, action):\n",
        "    # get a random number to use as the stochasticity\n",
        "    # for action transitions\n",
        "    random_value = rand.random()\n",
        "    state_name = self.get_state_name(self.state)\n",
        "    # get the non-zero transition probabilities for current state\n",
        "    # from the transition probabilities dictionary\n",
        "    transitions = self.transition_probs[state_name][self.actions[action]]\n",
        "    \n",
        "    # convert dictionary into tuple list\n",
        "    # so that we can sort the list based on probability of transition\n",
        "    items_list = [(k,v) for k,v in transitions.items()]\n",
        "    items_list.sort(key=lambda x: x[1], reverse=True)\n",
        "\n",
        "    # if the highest transition probability is greater\n",
        "    # than the random number then we use that as the new state\n",
        "    if random_value < items_list[0][1]:\n",
        "      return items_list[0][0] # return the action with the highest probability\n",
        "    else: # else we return a state with the lower probability of occurrence\n",
        "      return items_list[1][0]\n",
        "\n",
        "  # given discrete state space value, get the string representation of the state\n",
        "  # this can then be used in lookup tables\n",
        "  def get_state_name(self, state):\n",
        "    return self.states[state.tolist().index(1)]\n"
      ],
      "execution_count": 17,
      "outputs": []
    },
    {
      "cell_type": "markdown",
      "metadata": {
        "id": "dl-yJ-n-mUGA"
      },
      "source": [
        "## C.2 Exact Policy Iteration"
      ]
    },
    {
      "cell_type": "code",
      "metadata": {
        "id": "mRlb1EAxmRgY"
      },
      "source": [
        "# Create transition matrix for our linear solve\n",
        "import numpy as np\n",
        "# Create class for capturing exact policy iteration logic\n",
        "class ExactPolicyIteration:\n",
        "  def __init__(self, env: SimpleTrafficControlEnv):\n",
        "    # get a handle of the definition for our markov decision process\n",
        "    self.env = env\n",
        "    # this is our gamma / discount value\n",
        "    self.discount = 0.9\n",
        "    # initialize our policy function\n",
        "    self.pi = { \n",
        "      'PhaseMain,TrafficMain': 'PhaseLeft',\n",
        "      'PhaseMain,TrafficLeft': 'PhaseLeft',    \n",
        "      'PhaseLeft,TrafficMain': 'PhaseLeft',\n",
        "      'PhaseLeft,TrafficLeft': 'PhaseLeft'\n",
        "    }\n",
        "\n",
        "    # definition of the state rewards 'R' to use as our 'b' value in the closed form policy evaluation Ax = b\n",
        "    self.rewards = np.array([+1,-2,-2,+1])\n",
        "    self.v = np.array(len(env.states))\n",
        "  \n",
        "  # run policy iteration until converged at optimal policy\n",
        "  def run(self):\n",
        "    # create A matrix for Ax = b form\n",
        "    A = self._create_A_matrix()\n",
        "    # use new Ax = b closed for solution to calculate optimal state value function\n",
        "    # for given policy\n",
        "    self.v = self._evaluate_state_value_vector(A)\n",
        "    print('v {0}'.format(self.v))\n",
        "    # given new state value function\n",
        "    # create new policy function\n",
        "    new_policy, has_changed = self._update_policy()\n",
        "\n",
        "    # if policy has changed\n",
        "    # then we run the next policy iteration\n",
        "    if has_changed:\n",
        "      self.pi = new_policy\n",
        "      self.run() # recursively loop until we have found the optimal policy\n",
        "    # else we are finished policy iteration\n",
        "\n",
        "  # get action based on state\n",
        "  def get_policy_action(self, state):\n",
        "    current_state = env.get_state_name(state)\n",
        "    action_name = self.pi[current_state]\n",
        "    return env.actions.index(action_name)\n",
        "\n",
        "  # compute state action value\n",
        "  def get_action_value(self, state, action):\n",
        "    state_action_value = 0  \n",
        "    for s_index in range(len(env.states)):\n",
        "      s = env.states[s_index]\n",
        "      # compute the state action value using bellman equation\n",
        "      transition_probability = env.get_transition_prob(state, action, s)\n",
        "      transition_reward = env.get_reward(state, action, s)\n",
        "      # sum of all probable future rewards.\n",
        "      state_action_value += transition_probability*(transition_reward + self.discount*self.v[s_index])\n",
        "\n",
        "    return state_action_value\n",
        "\n",
        "\n",
        "  # Construct our probability transition matrix,\n",
        "  # and then from there we create our \"A\" matrix from our Ax = b linear system of equations\n",
        "  # where x is our state-value vector.\n",
        "  def _create_A_matrix(self):\n",
        "    T = np.zeros((4,4)) # init transition probability matrix\n",
        "    # create transition probability matrix with respect to current policy\n",
        "    for row_index in range(len(env.states)):      \n",
        "      for column_index in range(len(env.states)):\n",
        "        state = env.states[row_index]\n",
        "        next_state = env.states[column_index]\n",
        "        T[row_index][column_index] = env.get_transition_prob(state, self.pi[state], next_state)\n",
        "    \n",
        "    # based on the work done in Task 3.1C we know the form of our A matrix\n",
        "    # also as described by David Silver [4]\n",
        "    A = (np.identity(4) - (self.discount * T)) \n",
        "\n",
        "    return A\n",
        "\n",
        "  # Using our new A matrix and our awareness of the rewards at each state\n",
        "  # we can calculate our new state value vector as a linear system of equations\n",
        "  def _evaluate_state_value_vector(self, A):\n",
        "    # refer to Lecture 2 by David Silver [4]\n",
        "    return np.dot(np.linalg.inv(A), self.rewards)\n",
        "\n",
        "  # using new state values vector, we calculate the best policy\n",
        "  # based on material Sutton, Barto [3]\n",
        "  def _update_policy(self):\n",
        "    # create a copy of the existing policy\n",
        "    pi_new = self.pi.copy()\n",
        "    # keep track of whether we have changed the policy or not\n",
        "    has_changed = False\n",
        "    # loop through all state and find the best action for given that state\n",
        "    for from_state in env.states:\n",
        "      highest_reward = -99999 # init highest reward variable\n",
        "      \n",
        "      # loop through available actions & transition probabilities for state\n",
        "      for action in env.actions:\n",
        "        state_action_value = self.get_action_value(from_state, action)\n",
        "        # choose highest value action\n",
        "        if state_action_value > highest_reward:\n",
        "          highest_reward = state_action_value\n",
        "          pi_new[from_state] = action\n",
        "\n",
        "      original_action = self.pi[from_state] # get original action for this state from previous policy\n",
        "      if not original_action == pi_new[from_state]: # if they have changed we know that we are still able to improve our policy\n",
        "        has_changed = True # ensure we inform the controlling loop that the policy has changed\n",
        "\n",
        "    # return new policy, and whether the policy has changed at all\n",
        "    return pi_new, has_changed"
      ],
      "execution_count": 18,
      "outputs": []
    },
    {
      "cell_type": "markdown",
      "metadata": {
        "id": "LS3YMgEWmjuR"
      },
      "source": [
        "##  C.3 Learn Optimal Policy"
      ]
    },
    {
      "cell_type": "code",
      "metadata": {
        "colab": {
          "base_uri": "https://localhost:8080/",
          "height": 0
        },
        "id": "mBdI8UAktp0j",
        "outputId": "42993bb0-8735-4041-f2ab-6b7109aab6fc"
      },
      "source": [
        "# instantiate our exact policy iteration solution with our environment\n",
        "env = SimpleTrafficControlEnv()\n",
        "model = ExactPolicyIteration(env)\n",
        "\n",
        "# run the policy iteration to calculate optimal policy ahead of time\n",
        "model.run()"
      ],
      "execution_count": 19,
      "outputs": [
        {
          "output_type": "stream",
          "text": [
            "v [-11.13043478 -10.60869565 -14.13043478  -7.60869565]\n",
            "v [ 2.47168167 -0.31658437 -0.02643044  2.68341563]\n"
          ],
          "name": "stdout"
        }
      ]
    },
    {
      "cell_type": "markdown",
      "metadata": {
        "id": "EBM0Oas-m5uP"
      },
      "source": [
        "## C.4 Test"
      ]
    },
    {
      "cell_type": "code",
      "metadata": {
        "colab": {
          "base_uri": "https://localhost:8080/",
          "height": 0
        },
        "id": "rDljKB4VgLu6",
        "outputId": "f053cf57-6d93-4f46-9356-bed38b884370"
      },
      "source": [
        "TIME_LIMIT = 1000\n",
        "\n",
        "# Create new traffic control gym environment\n",
        "total_reward = []\n",
        "# Reset to clear state from potentialy earlier runs\n",
        "o = env.reset() \n",
        "# for each time step\n",
        "for t in range(TIME_LIMIT):\n",
        "    # choose action from policy iteration model\n",
        "    action = model.get_policy_action(o)\n",
        "\n",
        "    # take step given action\n",
        "    o, r, d, _ = env.step(action) \n",
        "    total_reward += [r]\n",
        "else:\n",
        "    print(\"Time limit reached.\")\n",
        "    print(\"Average reward {0}\".format(np.mean(total_reward)))"
      ],
      "execution_count": 20,
      "outputs": [
        {
          "output_type": "stream",
          "text": [
            "Time limit reached.\n",
            "Average reward 0.181\n"
          ],
          "name": "stdout"
        }
      ]
    },
    {
      "cell_type": "markdown",
      "metadata": {
        "id": "bISxXigjgLeI"
      },
      "source": [
        "## C.5 Visualization\n",
        "\n",
        "Next we define our MDP object to Visualize the MDP.\n",
        "The MDP class is defined in a file given in practical 3.\n",
        "\n",
        "> <b>Note:</b> Place mdp file in your google drive in the location referred to below.  \n"
      ]
    },
    {
      "cell_type": "code",
      "metadata": {
        "colab": {
          "base_uri": "https://localhost:8080/",
          "height": 255
        },
        "id": "82_WrvWagLu4",
        "outputId": "d52cb832-f806-4bd9-9fe4-c974fa9fa84f"
      },
      "source": [
        "from google.colab import drive\n",
        "import sys\n",
        "from IPython.display import display\n",
        "\n",
        "\n",
        "drive.mount('/content/drive')\n",
        "sys.path.insert(0,'/content/drive/MyDrive/Colab Notebooks')\n",
        "\n",
        "from mdp import has_graphviz\n",
        "# if we dont have graphvizualization support\n",
        "# then we don't need to run this cell\n",
        "if has_graphviz:\n",
        "\n",
        "\n",
        "  from mdp import MDP\n",
        "  from mdp import plot_graph, plot_graph_with_state_values, plot_graph_optimal_strategy_and_state_values\n",
        "\n",
        "  mdp = MDP(env.transition_probs, env.rewards, initial_state='PhaseMain,TrafficMain')\n",
        "\n",
        "  # define functino for aid in graph plotting below\n",
        "  def get_action_value(mdp, state_values, state, action, gamma):\n",
        "      return model.get_action_value(state, action)\n",
        "\n",
        "  # create state-value mapping from states and value arrays\n",
        "  state_values = {state: value for state,value in zip(env.states, model.v)}\n",
        "  # render MDP as graph\n",
        "  display(plot_graph_optimal_strategy_and_state_values(mdp, state_values, get_action_value))"
      ],
      "execution_count": 21,
      "outputs": [
        {
          "output_type": "stream",
          "text": [
            "Drive already mounted at /content/drive; to attempt to forcibly remount, call drive.mount(\"/content/drive\", force_remount=True).\n"
          ],
          "name": "stdout"
        },
        {
          "output_type": "display_data",
          "data": {
            "text/plain": [
              "<graphviz.dot.Digraph at 0x7f999c02f790>"
            ],
            "image/svg+xml": "<?xml version=\"1.0\" encoding=\"UTF-8\" standalone=\"no\"?>\n<!DOCTYPE svg PUBLIC \"-//W3C//DTD SVG 1.1//EN\"\n \"http://www.w3.org/Graphics/SVG/1.1/DTD/svg11.dtd\">\n<!-- Generated by graphviz version 2.40.1 (20161225.0304)\n -->\n<!-- Title: MDP Pages: 1 -->\n<svg width=\"720pt\" height=\"163pt\"\n viewBox=\"0.00 0.00 720.00 162.56\" xmlns=\"http://www.w3.org/2000/svg\" xmlns:xlink=\"http://www.w3.org/1999/xlink\">\n<g id=\"graph0\" class=\"graph\" transform=\"scale(.2169 .2169) rotate(0) translate(4 745.457)\">\n<title>MDP</title>\n<polygon fill=\"#ffffff\" stroke=\"transparent\" points=\"-4,4 -4,-745.457 3315.3792,-745.457 3315.3792,4 -4,4\"/>\n<!-- PhaseMain,TrafficMain -->\n<g id=\"node1\" class=\"node\">\n<title>PhaseMain,TrafficMain</title>\n<ellipse fill=\"#85ff75\" stroke=\"#85ff75\" cx=\"189.9691\" cy=\"-378.0184\" rx=\"185.9388\" ry=\"185.9388\"/>\n<ellipse fill=\"none\" stroke=\"#85ff75\" cx=\"189.9691\" cy=\"-378.0184\" rx=\"189.9382\" ry=\"189.9382\"/>\n<text text-anchor=\"middle\" x=\"189.9691\" y=\"-384.8184\" font-family=\"Arial\" font-size=\"24.00\" fill=\"#000000\">PhaseMain,TrafficMain</text>\n<text text-anchor=\"middle\" x=\"189.9691\" y=\"-358.8184\" font-family=\"Arial\" font-size=\"24.00\" fill=\"#000000\">V =2.47</text>\n</g>\n<!-- PhaseMain,TrafficMain&#45;PhaseMain -->\n<g id=\"node2\" class=\"node\">\n<title>PhaseMain,TrafficMain&#45;PhaseMain</title>\n<ellipse fill=\"#ffb6c1\" stroke=\"#ffb6c1\" cx=\"629.3768\" cy=\"-378.0184\" rx=\"83.3772\" ry=\"83.3772\"/>\n<text text-anchor=\"middle\" x=\"629.3768\" y=\"-373.0184\" font-family=\"Arial\" font-size=\"20.00\" fill=\"#000000\">PhaseMain</text>\n</g>\n<!-- PhaseMain,TrafficMain&#45;&gt;PhaseMain,TrafficMain&#45;PhaseMain -->\n<g id=\"edge1\" class=\"edge\">\n<title>PhaseMain,TrafficMain&#45;&gt;PhaseMain,TrafficMain&#45;PhaseMain</title>\n<path fill=\"none\" stroke=\"#ff0000\" stroke-width=\"2\" d=\"M379.8249,-371.324C433.8802,-371.1213 490.3916,-371.4724 535.9411,-372.3774\"/>\n<polygon fill=\"#ff0000\" stroke=\"#ff0000\" stroke-width=\"2\" points=\"536.01,-375.8796 546.0819,-372.5923 536.1583,-368.8812 536.01,-375.8796\"/>\n</g>\n<!-- PhaseMain,TrafficMain&#45;&gt;PhaseMain,TrafficMain&#45;PhaseMain -->\n<g id=\"edge25\" class=\"edge\">\n<title>PhaseMain,TrafficMain&#45;&gt;PhaseMain,TrafficMain&#45;PhaseMain</title>\n<path fill=\"none\" stroke=\"#00ff00\" stroke-width=\"6\" d=\"M379.8249,-384.7127C433.8802,-384.9155 490.3916,-384.5643 535.9411,-383.6593\"/>\n<polygon fill=\"#00ff00\" stroke=\"#00ff00\" stroke-width=\"6\" points=\"536.1954,-388.9052 546.0819,-383.4445 535.9729,-378.4075 536.1954,-388.9052\"/>\n</g>\n<!-- PhaseMain,TrafficMain&#45;PhaseLeft -->\n<g id=\"node4\" class=\"node\">\n<title>PhaseMain,TrafficMain&#45;PhaseLeft</title>\n<ellipse fill=\"#ffb6c1\" stroke=\"#ffb6c1\" cx=\"1503.2216\" cy=\"-149.0184\" rx=\"77.1494\" ry=\"77.1494\"/>\n<text text-anchor=\"middle\" x=\"1503.2216\" y=\"-144.0184\" font-family=\"Arial\" font-size=\"20.00\" fill=\"#000000\">PhaseLeft</text>\n</g>\n<!-- PhaseMain,TrafficMain&#45;&gt;PhaseMain,TrafficMain&#45;PhaseLeft -->\n<g id=\"edge4\" class=\"edge\">\n<title>PhaseMain,TrafficMain&#45;&gt;PhaseMain,TrafficMain&#45;PhaseLeft</title>\n<path fill=\"none\" stroke=\"#ff0000\" stroke-width=\"2\" d=\"M370.2213,-317.8321C509.1797,-274.1082 707.0168,-217.6151 884.8154,-188.0184 1072.218,-156.823 1295.3586,-150.1081 1415.7444,-148.9436\"/>\n<polygon fill=\"#ff0000\" stroke=\"#ff0000\" stroke-width=\"2\" points=\"1416.0358,-152.4413 1426.0053,-148.8554 1415.9756,-145.4416 1416.0358,-152.4413\"/>\n</g>\n<!-- PhaseMain,TrafficMain&#45;PhaseMain&#45;&gt;PhaseMain,TrafficMain -->\n<g id=\"edge2\" class=\"edge\">\n<title>PhaseMain,TrafficMain&#45;PhaseMain&#45;&gt;PhaseMain,TrafficMain</title>\n<path fill=\"none\" stroke=\"#0000ff\" stroke-dasharray=\"5,2\" d=\"M547.9604,-358.7787C541.2152,-357.6678 534.4781,-356.7194 527.9382,-356.0184 483.0022,-351.2015 434.584,-351.2601 388.825,-353.7009\"/>\n<polygon fill=\"#0000ff\" stroke=\"#0000ff\" points=\"388.581,-350.209 378.7977,-354.2756 388.9816,-357.1976 388.581,-350.209\"/>\n<text text-anchor=\"middle\" x=\"462.9382\" y=\"-361.2184\" font-family=\"Arial\" font-size=\"16.00\" fill=\"#000000\">p = 0.7 &#160;reward =1</text>\n</g>\n<!-- PhaseMain,TrafficLeft -->\n<g id=\"node3\" class=\"node\">\n<title>PhaseMain,TrafficLeft</title>\n<ellipse fill=\"#85ff75\" stroke=\"#85ff75\" cx=\"1066.2992\" cy=\"-378.0184\" rx=\"177.468\" ry=\"177.468\"/>\n<ellipse fill=\"none\" stroke=\"#85ff75\" cx=\"1066.2992\" cy=\"-378.0184\" rx=\"181.4676\" ry=\"181.4676\"/>\n<text text-anchor=\"middle\" x=\"1066.2992\" y=\"-384.8184\" font-family=\"Arial\" font-size=\"24.00\" fill=\"#000000\">PhaseMain,TrafficLeft</text>\n<text text-anchor=\"middle\" x=\"1066.2992\" y=\"-358.8184\" font-family=\"Arial\" font-size=\"24.00\" fill=\"#000000\">V =&#45;0.3</text>\n</g>\n<!-- PhaseMain,TrafficMain&#45;PhaseMain&#45;&gt;PhaseMain,TrafficLeft -->\n<g id=\"edge3\" class=\"edge\">\n<title>PhaseMain,TrafficMain&#45;PhaseMain&#45;&gt;PhaseMain,TrafficLeft</title>\n<path fill=\"none\" stroke=\"#0000ff\" stroke-dasharray=\"5,2\" d=\"M712.8448,-378.0184C758.7596,-378.0184 817.7585,-378.0184 874.3488,-378.0184\"/>\n<polygon fill=\"#0000ff\" stroke=\"#0000ff\" points=\"874.5127,-381.5185 884.5127,-378.0184 874.5126,-374.5185 874.5127,-381.5185\"/>\n<text text-anchor=\"middle\" x=\"798.8154\" y=\"-383.2184\" font-family=\"Arial\" font-size=\"16.00\" fill=\"#000000\">p = 0.3 &#160;reward =&#45;2</text>\n</g>\n<!-- PhaseMain,TrafficLeft&#45;PhaseMain -->\n<g id=\"node7\" class=\"node\">\n<title>PhaseMain,TrafficLeft&#45;PhaseMain</title>\n<ellipse fill=\"#ffb6c1\" stroke=\"#ffb6c1\" cx=\"1503.2216\" cy=\"-590.0184\" rx=\"83.3772\" ry=\"83.3772\"/>\n<text text-anchor=\"middle\" x=\"1503.2216\" y=\"-585.0184\" font-family=\"Arial\" font-size=\"20.00\" fill=\"#000000\">PhaseMain</text>\n</g>\n<!-- PhaseMain,TrafficLeft&#45;&gt;PhaseMain,TrafficLeft&#45;PhaseMain -->\n<g id=\"edge7\" class=\"edge\">\n<title>PhaseMain,TrafficLeft&#45;&gt;PhaseMain,TrafficLeft&#45;PhaseMain</title>\n<path fill=\"none\" stroke=\"#ff0000\" stroke-width=\"2\" d=\"M1221.353,-472.7103C1236.1173,-480.1034 1251.0704,-487.015 1265.783,-493.0184 1323.5713,-516.5984 1344.302,-503.6987 1401.783,-528.0184 1409.3656,-531.2265 1417.0481,-534.9403 1424.6153,-538.9241\"/>\n<polygon fill=\"#ff0000\" stroke=\"#ff0000\" stroke-width=\"2\" points=\"1422.9743,-542.0157 1433.4327,-543.7109 1426.3141,-535.8638 1422.9743,-542.0157\"/>\n</g>\n<!-- PhaseMain,TrafficLeft&#45;PhaseLeft -->\n<g id=\"node8\" class=\"node\">\n<title>PhaseMain,TrafficLeft&#45;PhaseLeft</title>\n<ellipse fill=\"#ffb6c1\" stroke=\"#ffb6c1\" cx=\"1503.2216\" cy=\"-374.0184\" rx=\"77.1494\" ry=\"77.1494\"/>\n<text text-anchor=\"middle\" x=\"1503.2216\" y=\"-369.0184\" font-family=\"Arial\" font-size=\"20.00\" fill=\"#000000\">PhaseLeft</text>\n</g>\n<!-- PhaseMain,TrafficLeft&#45;&gt;PhaseMain,TrafficLeft&#45;PhaseLeft -->\n<g id=\"edge10\" class=\"edge\">\n<title>PhaseMain,TrafficLeft&#45;&gt;PhaseMain,TrafficLeft&#45;PhaseLeft</title>\n<path fill=\"none\" stroke=\"#ff0000\" stroke-width=\"2\" d=\"M1247.7978,-369.6934C1306.0228,-368.8851 1367.8557,-368.6998 1416.0989,-369.2949\"/>\n<polygon fill=\"#ff0000\" stroke=\"#ff0000\" stroke-width=\"2\" points=\"1416.1337,-372.7957 1426.181,-369.4338 1416.2302,-365.7963 1416.1337,-372.7957\"/>\n</g>\n<!-- PhaseMain,TrafficLeft&#45;&gt;PhaseMain,TrafficLeft&#45;PhaseLeft -->\n<g id=\"edge26\" class=\"edge\">\n<title>PhaseMain,TrafficLeft&#45;&gt;PhaseMain,TrafficLeft&#45;PhaseLeft</title>\n<path fill=\"none\" stroke=\"#00ff00\" stroke-width=\"6\" d=\"M1247.7978,-383.0201C1306.0228,-382.7624 1367.8557,-381.8155 1416.0989,-380.337\"/>\n<polygon fill=\"#00ff00\" stroke=\"#00ff00\" stroke-width=\"6\" points=\"1416.3546,-385.5816 1426.181,-380.0135 1416.0177,-375.087 1416.3546,-385.5816\"/>\n</g>\n<!-- PhaseLeft,TrafficMain -->\n<g id=\"node5\" class=\"node\">\n<title>PhaseLeft,TrafficMain</title>\n<ellipse fill=\"#85ff75\" stroke=\"#85ff75\" cx=\"1940.144\" cy=\"-362.0184\" rx=\"177.468\" ry=\"177.468\"/>\n<ellipse fill=\"none\" stroke=\"#85ff75\" cx=\"1940.144\" cy=\"-362.0184\" rx=\"181.4676\" ry=\"181.4676\"/>\n<text text-anchor=\"middle\" x=\"1940.144\" y=\"-368.8184\" font-family=\"Arial\" font-size=\"24.00\" fill=\"#000000\">PhaseLeft,TrafficMain</text>\n<text text-anchor=\"middle\" x=\"1940.144\" y=\"-342.8184\" font-family=\"Arial\" font-size=\"24.00\" fill=\"#000000\">V =&#45;0.0</text>\n</g>\n<!-- PhaseMain,TrafficMain&#45;PhaseLeft&#45;&gt;PhaseLeft,TrafficMain -->\n<g id=\"edge5\" class=\"edge\">\n<title>PhaseMain,TrafficMain&#45;PhaseLeft&#45;&gt;PhaseLeft,TrafficMain</title>\n<path fill=\"none\" stroke=\"#0000ff\" stroke-dasharray=\"5,2\" d=\"M1580.5133,-148.3724C1628.5942,-150.6735 1690.5829,-158.6811 1740.6602,-182.0184 1763.9988,-192.8947 1786.5472,-207.4492 1807.5611,-223.5901\"/>\n<polygon fill=\"#0000ff\" stroke=\"#0000ff\" points=\"1805.5104,-226.4298 1815.5382,-229.8495 1809.8317,-220.9228 1805.5104,-226.4298\"/>\n<text text-anchor=\"middle\" x=\"1672.6602\" y=\"-187.2184\" font-family=\"Arial\" font-size=\"16.00\" fill=\"#000000\">p = 0.9 &#160;reward =&#45;2</text>\n</g>\n<!-- PhaseLeft,TrafficLeft -->\n<g id=\"node6\" class=\"node\">\n<title>PhaseLeft,TrafficLeft</title>\n<ellipse fill=\"#85ff75\" stroke=\"#85ff75\" cx=\"2805.5035\" cy=\"-457.0184\" rx=\"168.9971\" ry=\"168.9971\"/>\n<ellipse fill=\"none\" stroke=\"#85ff75\" cx=\"2805.5035\" cy=\"-457.0184\" rx=\"172.997\" ry=\"172.997\"/>\n<text text-anchor=\"middle\" x=\"2805.5035\" y=\"-463.8184\" font-family=\"Arial\" font-size=\"24.00\" fill=\"#000000\">PhaseLeft,TrafficLeft</text>\n<text text-anchor=\"middle\" x=\"2805.5035\" y=\"-437.8184\" font-family=\"Arial\" font-size=\"24.00\" fill=\"#000000\">V =2.68</text>\n</g>\n<!-- PhaseMain,TrafficMain&#45;PhaseLeft&#45;&gt;PhaseLeft,TrafficLeft -->\n<g id=\"edge6\" class=\"edge\">\n<title>PhaseMain,TrafficMain&#45;PhaseLeft&#45;&gt;PhaseLeft,TrafficLeft</title>\n<path fill=\"none\" stroke=\"#0000ff\" stroke-dasharray=\"5,2\" d=\"M1574.5133,-119.3377C1739.1708,-55.5643 2155.1729,77.9279 2460.505,-61.0184 2567.8372,-109.8616 2654.7723,-210.4199 2714.5262,-297.9761\"/>\n<polygon fill=\"#0000ff\" stroke=\"#0000ff\" points=\"2711.7244,-300.0811 2720.2238,-306.4065 2717.5241,-296.1614 2711.7244,-300.0811\"/>\n<text text-anchor=\"middle\" x=\"2207.6278\" y=\"-14.2184\" font-family=\"Arial\" font-size=\"16.00\" fill=\"#000000\">p = 0.1 &#160;reward =1</text>\n</g>\n<!-- PhaseLeft,TrafficMain&#45;PhaseLeft -->\n<g id=\"node9\" class=\"node\">\n<title>PhaseLeft,TrafficMain&#45;PhaseLeft</title>\n<ellipse fill=\"#ffb6c1\" stroke=\"#ffb6c1\" cx=\"2377.0664\" cy=\"-395.0184\" rx=\"77.1494\" ry=\"77.1494\"/>\n<text text-anchor=\"middle\" x=\"2377.0664\" y=\"-390.0184\" font-family=\"Arial\" font-size=\"20.00\" fill=\"#000000\">PhaseLeft</text>\n</g>\n<!-- PhaseLeft,TrafficMain&#45;&gt;PhaseLeft,TrafficMain&#45;PhaseLeft -->\n<g id=\"edge13\" class=\"edge\">\n<title>PhaseLeft,TrafficMain&#45;&gt;PhaseLeft,TrafficMain&#45;PhaseLeft</title>\n<path fill=\"none\" stroke=\"#ff0000\" stroke-width=\"2\" d=\"M2122.0229,-364.851C2171.927,-366.9219 2225.9616,-370.3603 2275.6278,-376.0184 2280.7264,-376.5992 2285.9538,-377.2879 2291.2174,-378.053\"/>\n<polygon fill=\"#ff0000\" stroke=\"#ff0000\" stroke-width=\"2\" points=\"2290.9445,-381.5521 2301.3599,-379.6104 2292.007,-374.6332 2290.9445,-381.5521\"/>\n</g>\n<!-- PhaseLeft,TrafficMain&#45;PhaseMain -->\n<g id=\"node10\" class=\"node\">\n<title>PhaseLeft,TrafficMain&#45;PhaseMain</title>\n<ellipse fill=\"#ffb6c1\" stroke=\"#ffb6c1\" cx=\"2377.0664\" cy=\"-153.0184\" rx=\"83.3772\" ry=\"83.3772\"/>\n<text text-anchor=\"middle\" x=\"2377.0664\" y=\"-148.0184\" font-family=\"Arial\" font-size=\"20.00\" fill=\"#000000\">PhaseMain</text>\n</g>\n<!-- PhaseLeft,TrafficMain&#45;&gt;PhaseLeft,TrafficMain&#45;PhaseMain -->\n<g id=\"edge16\" class=\"edge\">\n<title>PhaseLeft,TrafficMain&#45;&gt;PhaseLeft,TrafficMain&#45;PhaseMain</title>\n<path fill=\"none\" stroke=\"#ff0000\" stroke-width=\"2\" d=\"M2093.5137,-264.4606C2108.9579,-256.2506 2124.5155,-248.3131 2139.6278,-241.0184 2187.4557,-217.9318 2242.2548,-195.3028 2287.1485,-178.6261\"/>\n<polygon fill=\"#ff0000\" stroke=\"#ff0000\" stroke-width=\"2\" points=\"2288.3951,-181.8969 2296.572,-175.1598 2285.9784,-175.3273 2288.3951,-181.8969\"/>\n</g>\n<!-- PhaseLeft,TrafficMain&#45;&gt;PhaseLeft,TrafficMain&#45;PhaseMain -->\n<g id=\"edge27\" class=\"edge\">\n<title>PhaseLeft,TrafficMain&#45;&gt;PhaseLeft,TrafficMain&#45;PhaseMain</title>\n<path fill=\"none\" stroke=\"#00ff00\" stroke-width=\"6\" d=\"M2101.1969,-278.357C2114.1009,-271.6381 2127.0193,-265.1045 2139.6278,-259.0184 2189.2441,-235.0685 2246.3625,-211.6112 2292.142,-192.7486\"/>\n<polygon fill=\"#00ff00\" stroke=\"#00ff00\" stroke-width=\"6\" points=\"2294.192,-197.5822 2301.4361,-188.9169 2290.1898,-187.8748 2294.192,-197.5822\"/>\n</g>\n<!-- PhaseLeft,TrafficLeft&#45;PhaseLeft -->\n<g id=\"node11\" class=\"node\">\n<title>PhaseLeft,TrafficLeft&#45;PhaseLeft</title>\n<ellipse fill=\"#ffb6c1\" stroke=\"#ffb6c1\" cx=\"3227.9406\" cy=\"-436.0184\" rx=\"77.1494\" ry=\"77.1494\"/>\n<text text-anchor=\"middle\" x=\"3227.9406\" y=\"-431.0184\" font-family=\"Arial\" font-size=\"20.00\" fill=\"#000000\">PhaseLeft</text>\n</g>\n<!-- PhaseLeft,TrafficLeft&#45;&gt;PhaseLeft,TrafficLeft&#45;PhaseLeft -->\n<g id=\"edge19\" class=\"edge\">\n<title>PhaseLeft,TrafficLeft&#45;&gt;PhaseLeft,TrafficLeft&#45;PhaseLeft</title>\n<path fill=\"none\" stroke=\"#ff0000\" stroke-width=\"2\" d=\"M2977.9341,-441.7988C3033.8337,-438.7223 3093.4868,-436.1092 3140.4988,-434.7744\"/>\n<polygon fill=\"#ff0000\" stroke=\"#ff0000\" stroke-width=\"2\" points=\"3140.7346,-438.2694 3150.6368,-434.5015 3140.5462,-431.2719 3140.7346,-438.2694\"/>\n</g>\n<!-- PhaseLeft,TrafficLeft&#45;&gt;PhaseLeft,TrafficLeft&#45;PhaseLeft -->\n<g id=\"edge28\" class=\"edge\">\n<title>PhaseLeft,TrafficLeft&#45;&gt;PhaseLeft,TrafficLeft&#45;PhaseLeft</title>\n<path fill=\"none\" stroke=\"#00ff00\" stroke-width=\"6\" d=\"M2978.5437,-455.0673C3034.4792,-452.5796 3094.1098,-449.258 3141.0332,-445.9181\"/>\n<polygon fill=\"#00ff00\" stroke=\"#00ff00\" stroke-width=\"6\" points=\"3141.5574,-451.144 3151.1505,-445.1829 3140.7963,-440.6716 3141.5574,-451.144\"/>\n</g>\n<!-- PhaseLeft,TrafficLeft&#45;PhaseMain -->\n<g id=\"node12\" class=\"node\">\n<title>PhaseLeft,TrafficLeft&#45;PhaseMain</title>\n<ellipse fill=\"#ffb6c1\" stroke=\"#ffb6c1\" cx=\"3227.9406\" cy=\"-658.0184\" rx=\"83.3772\" ry=\"83.3772\"/>\n<text text-anchor=\"middle\" x=\"3227.9406\" y=\"-653.0184\" font-family=\"Arial\" font-size=\"20.00\" fill=\"#000000\">PhaseMain</text>\n</g>\n<!-- PhaseLeft,TrafficLeft&#45;&gt;PhaseLeft,TrafficLeft&#45;PhaseMain -->\n<g id=\"edge22\" class=\"edge\">\n<title>PhaseLeft,TrafficLeft&#45;&gt;PhaseLeft,TrafficLeft&#45;PhaseMain</title>\n<path fill=\"none\" stroke=\"#ff0000\" stroke-width=\"2\" d=\"M2961.9032,-531.435C3023.2903,-560.6436 3091.3142,-593.0101 3143.2104,-617.7028\"/>\n<polygon fill=\"#ff0000\" stroke=\"#ff0000\" stroke-width=\"2\" points=\"3141.845,-620.9291 3152.3788,-622.0653 3144.8526,-614.6082 3141.845,-620.9291\"/>\n</g>\n<!-- PhaseMain,TrafficLeft&#45;PhaseMain&#45;&gt;PhaseMain,TrafficMain -->\n<g id=\"edge8\" class=\"edge\">\n<title>PhaseMain,TrafficLeft&#45;PhaseMain&#45;&gt;PhaseMain,TrafficMain</title>\n<path fill=\"none\" stroke=\"#0000ff\" stroke-dasharray=\"5,2\" d=\"M1419.6319,-593.1339C1300.2527,-596.2072 1074.3892,-596.9099 884.8154,-568.0184 710.804,-541.4986 518.1002,-486.7078 379.8568,-442.7487\"/>\n<polygon fill=\"#0000ff\" stroke=\"#0000ff\" points=\"380.5891,-439.3085 369.9983,-439.6029 378.4611,-445.9772 380.5891,-439.3085\"/>\n<text text-anchor=\"middle\" x=\"798.8154\" y=\"-569.2184\" font-family=\"Arial\" font-size=\"16.00\" fill=\"#000000\">p = 0.2 &#160;reward =1</text>\n</g>\n<!-- PhaseMain,TrafficLeft&#45;PhaseMain&#45;&gt;PhaseMain,TrafficLeft -->\n<g id=\"edge9\" class=\"edge\">\n<title>PhaseMain,TrafficLeft&#45;PhaseMain&#45;&gt;PhaseMain,TrafficLeft</title>\n<path fill=\"none\" stroke=\"#0000ff\" stroke-dasharray=\"5,2\" d=\"M1424.2539,-562.7659C1416.6876,-560.3916 1409.1074,-558.1028 1401.783,-556.0184 1342.0592,-539.0222 1322.1877,-549.9858 1265.783,-524.0184 1249.2542,-516.4089 1232.7286,-507.3152 1216.6585,-497.4378\"/>\n<polygon fill=\"#0000ff\" stroke=\"#0000ff\" points=\"1218.1126,-494.2186 1207.7804,-491.8741 1214.3955,-500.1501 1218.1126,-494.2186\"/>\n<text text-anchor=\"middle\" x=\"1333.783\" y=\"-561.2184\" font-family=\"Arial\" font-size=\"16.00\" fill=\"#000000\">p = 0.8 &#160;reward =&#45;2</text>\n</g>\n<!-- PhaseMain,TrafficLeft&#45;PhaseLeft&#45;&gt;PhaseLeft,TrafficMain -->\n<g id=\"edge12\" class=\"edge\">\n<title>PhaseMain,TrafficLeft&#45;PhaseLeft&#45;&gt;PhaseLeft,TrafficMain</title>\n<path fill=\"none\" stroke=\"#0000ff\" stroke-dasharray=\"5,2\" d=\"M1580.3288,-371.9006C1627.1092,-370.6158 1689.0444,-368.9148 1748.3232,-367.2867\"/>\n<polygon fill=\"#0000ff\" stroke=\"#0000ff\" points=\"1748.681,-370.7783 1758.5812,-367.005 1748.4888,-363.7809 1748.681,-370.7783\"/>\n<text text-anchor=\"middle\" x=\"1672.6602\" y=\"-376.2184\" font-family=\"Arial\" font-size=\"16.00\" fill=\"#000000\">p = 0.3 &#160;reward =&#45;2</text>\n</g>\n<!-- PhaseMain,TrafficLeft&#45;PhaseLeft&#45;&gt;PhaseLeft,TrafficLeft -->\n<g id=\"edge11\" class=\"edge\">\n<title>PhaseMain,TrafficLeft&#45;PhaseLeft&#45;&gt;PhaseLeft,TrafficLeft</title>\n<path fill=\"none\" stroke=\"#0000ff\" stroke-dasharray=\"5,2\" d=\"M1558.5514,-427.804C1606.9041,-470.7891 1681.3069,-527.7252 1758.6602,-552.0184 1915.3839,-601.2383 2369.4046,-534.2469 2625.0636,-490.1533\"/>\n<polygon fill=\"#0000ff\" stroke=\"#0000ff\" points=\"2625.9462,-493.5527 2635.2029,-488.3987 2624.7525,-486.6552 2625.9462,-493.5527\"/>\n<text text-anchor=\"middle\" x=\"2207.6278\" y=\"-561.2184\" font-family=\"Arial\" font-size=\"16.00\" fill=\"#000000\">p = 0.7 &#160;reward =1</text>\n</g>\n<!-- PhaseLeft,TrafficMain&#45;PhaseLeft&#45;&gt;PhaseLeft,TrafficMain -->\n<g id=\"edge14\" class=\"edge\">\n<title>PhaseLeft,TrafficMain&#45;PhaseLeft&#45;&gt;PhaseLeft,TrafficMain</title>\n<path fill=\"none\" stroke=\"#0000ff\" stroke-dasharray=\"5,2\" d=\"M2300.1847,-389.2116C2253.287,-385.6695 2191.0979,-380.9725 2131.6189,-376.4801\"/>\n<polygon fill=\"#0000ff\" stroke=\"#0000ff\" points=\"2131.562,-372.966 2121.3268,-375.7028 2131.0347,-379.9461 2131.562,-372.966\"/>\n<text text-anchor=\"middle\" x=\"2207.6278\" y=\"-392.2184\" font-family=\"Arial\" font-size=\"16.00\" fill=\"#000000\">p = 0.9 &#160;reward =&#45;2</text>\n</g>\n<!-- PhaseLeft,TrafficMain&#45;PhaseLeft&#45;&gt;PhaseLeft,TrafficLeft -->\n<g id=\"edge15\" class=\"edge\">\n<title>PhaseLeft,TrafficMain&#45;PhaseLeft&#45;&gt;PhaseLeft,TrafficLeft</title>\n<path fill=\"none\" stroke=\"#0000ff\" stroke-dasharray=\"5,2\" d=\"M2453.6623,-406.1027C2501.2,-412.982 2564.4176,-422.1304 2624.1444,-430.7735\"/>\n<polygon fill=\"#0000ff\" stroke=\"#0000ff\" points=\"2623.6854,-434.2435 2634.0836,-432.2119 2624.688,-427.3156 2623.6854,-434.2435\"/>\n<text text-anchor=\"middle\" x=\"2546.505\" y=\"-432.2184\" font-family=\"Arial\" font-size=\"16.00\" fill=\"#000000\">p = 0.1 &#160;reward =1</text>\n</g>\n<!-- PhaseLeft,TrafficMain&#45;PhaseMain&#45;&gt;PhaseMain,TrafficMain -->\n<g id=\"edge17\" class=\"edge\">\n<title>PhaseLeft,TrafficMain&#45;PhaseMain&#45;&gt;PhaseMain,TrafficMain</title>\n<path fill=\"none\" stroke=\"#0000ff\" stroke-dasharray=\"5,2\" d=\"M2302.2215,-115.6593C2293.4121,-112.2915 2284.4256,-109.2982 2275.6278,-107.0184 1942.2093,-20.6164 1847.6532,-44.0184 1503.2216,-44.0184 629.3768,-44.0184 629.3768,-44.0184 629.3768,-44.0184 503.2144,-44.0184 390.5959,-132.3653 310.9613,-218.1842\"/>\n<polygon fill=\"#0000ff\" stroke=\"#0000ff\" points=\"308.2657,-215.9451 304.0828,-225.6793 313.4231,-220.6782 308.2657,-215.9451\"/>\n<text text-anchor=\"middle\" x=\"1333.783\" y=\"-49.2184\" font-family=\"Arial\" font-size=\"16.00\" fill=\"#000000\">p = 0.9 &#160;reward =1</text>\n</g>\n<!-- PhaseLeft,TrafficMain&#45;PhaseMain&#45;&gt;PhaseMain,TrafficLeft -->\n<g id=\"edge18\" class=\"edge\">\n<title>PhaseLeft,TrafficMain&#45;PhaseMain&#45;&gt;PhaseMain,TrafficLeft</title>\n<path fill=\"none\" stroke=\"#0000ff\" stroke-dasharray=\"5,2\" d=\"M2295.8521,-132.9909C2171.2315,-106.9557 1929.3708,-75.3866 1758.6602,-172.0184 1745.7856,-179.3061 1752.6249,-191.3173 1740.6602,-200.0184 1730.4731,-207.4267 1448.4772,-280.4432 1252.4155,-330.6251\"/>\n<polygon fill=\"#0000ff\" stroke=\"#0000ff\" points=\"1251.3813,-327.2769 1242.5611,-333.1467 1253.1166,-334.0584 1251.3813,-327.2769\"/>\n<text text-anchor=\"middle\" x=\"1672.6602\" y=\"-244.2184\" font-family=\"Arial\" font-size=\"16.00\" fill=\"#000000\">p = 0.1 &#160;reward =&#45;2</text>\n</g>\n<!-- PhaseLeft,TrafficLeft&#45;PhaseLeft&#45;&gt;PhaseLeft,TrafficMain -->\n<g id=\"edge21\" class=\"edge\">\n<title>PhaseLeft,TrafficLeft&#45;PhaseLeft&#45;&gt;PhaseLeft,TrafficMain</title>\n<path fill=\"none\" stroke=\"#0000ff\" stroke-dasharray=\"5,2\" d=\"M3169.8265,-384.5646C3122.1518,-346.0039 3050.9321,-296.3633 2978.502,-275.0184 2824.3893,-229.6018 2384.2384,-289.0951 2129.1827,-329.7789\"/>\n<polygon fill=\"#0000ff\" stroke=\"#0000ff\" points=\"2128.3817,-326.3625 2119.0606,-331.3991 2129.4881,-333.2745 2128.3817,-326.3625\"/>\n<text text-anchor=\"middle\" x=\"2546.505\" y=\"-286.2184\" font-family=\"Arial\" font-size=\"16.00\" fill=\"#000000\">p = 0.3 &#160;reward =&#45;2</text>\n</g>\n<!-- PhaseLeft,TrafficLeft&#45;PhaseLeft&#45;&gt;PhaseLeft,TrafficLeft -->\n<g id=\"edge20\" class=\"edge\">\n<title>PhaseLeft,TrafficLeft&#45;PhaseLeft&#45;&gt;PhaseLeft,TrafficLeft</title>\n<path fill=\"none\" stroke=\"#0000ff\" stroke-dasharray=\"5,2\" d=\"M3151.9515,-421.8807C3143.3921,-420.7063 3134.7767,-419.7069 3126.502,-419.0184 3068.9233,-414.227 3054.0015,-413.354 2996.502,-419.0184 2992.7483,-419.3882 2988.9591,-419.7979 2985.1445,-420.2433\"/>\n<polygon fill=\"#0000ff\" stroke=\"#0000ff\" points=\"2984.4875,-416.7979 2974.9949,-421.5032 2985.3499,-423.7446 2984.4875,-416.7979\"/>\n<text text-anchor=\"middle\" x=\"3061.502\" y=\"-424.2184\" font-family=\"Arial\" font-size=\"16.00\" fill=\"#000000\">p = 0.7 &#160;reward =1</text>\n</g>\n<!-- PhaseLeft,TrafficLeft&#45;PhaseMain&#45;&gt;PhaseMain,TrafficMain -->\n<g id=\"edge24\" class=\"edge\">\n<title>PhaseLeft,TrafficLeft&#45;PhaseMain&#45;&gt;PhaseMain,TrafficMain</title>\n<path fill=\"none\" stroke=\"#0000ff\" stroke-dasharray=\"5,2\" d=\"M3145.2318,-671.447C3060.2514,-684.0637 2924.0064,-701.0184 2805.5035,-701.0184 629.3768,-701.0184 629.3768,-701.0184 629.3768,-701.0184 505.994,-701.0184 394.3626,-617.3186 314.4909,-535.1339\"/>\n<polygon fill=\"#0000ff\" stroke=\"#0000ff\" points=\"316.799,-532.4845 307.3464,-527.6992 311.7517,-537.3347 316.799,-532.4845\"/>\n<text text-anchor=\"middle\" x=\"1672.6602\" y=\"-706.2184\" font-family=\"Arial\" font-size=\"16.00\" fill=\"#000000\">p = 0.4 &#160;reward =1</text>\n</g>\n<!-- PhaseLeft,TrafficLeft&#45;PhaseMain&#45;&gt;PhaseMain,TrafficLeft -->\n<g id=\"edge23\" class=\"edge\">\n<title>PhaseLeft,TrafficLeft&#45;PhaseMain&#45;&gt;PhaseMain,TrafficLeft</title>\n<path fill=\"none\" stroke=\"#0000ff\" stroke-dasharray=\"5,2\" d=\"M3144.0758,-656.4611C3028.7627,-654.0645 2814.7963,-648.7022 2632.505,-639.0184 2243.6049,-618.3589 2139.8943,-653.5833 1758.6602,-574.0184 1687.6597,-559.2003 1664.0612,-561.6375 1604.6602,-520.0184 1594.3136,-512.7691 1597.4008,-504.6699 1586.6602,-498.0184 1521.9906,-457.9693 1493.9163,-477.0574 1419.783,-460.0184 1365.7401,-447.597 1307.0712,-434.0232 1253.3466,-421.5579\"/>\n<polygon fill=\"#0000ff\" stroke=\"#0000ff\" points=\"1253.9072,-418.0951 1243.3748,-419.2438 1252.3248,-424.9139 1253.9072,-418.0951\"/>\n<text text-anchor=\"middle\" x=\"2207.6278\" y=\"-635.2184\" font-family=\"Arial\" font-size=\"16.00\" fill=\"#000000\">p = 0.6 &#160;reward =&#45;2</text>\n</g>\n</g>\n</svg>\n"
          },
          "metadata": {
            "tags": []
          }
        }
      ]
    },
    {
      "cell_type": "code",
      "metadata": {
        "id": "NgmMdsIDoi10"
      },
      "source": [
        ""
      ],
      "execution_count": 21,
      "outputs": []
    }
  ]
}